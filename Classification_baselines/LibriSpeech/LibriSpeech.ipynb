{
 "cells": [
  {
   "cell_type": "markdown",
   "metadata": {},
   "source": [
    "# Libri speech Classification baselines "
   ]
  },
  {
   "cell_type": "markdown",
   "metadata": {},
   "source": [
    "## Imports"
   ]
  },
  {
   "cell_type": "code",
   "execution_count": 1,
   "metadata": {},
   "outputs": [
    {
     "name": "stdout",
     "output_type": "stream",
     "text": [
      "Python: 3.6.5 (default, Jun 21 2018, 23:07:39) \n",
      "[GCC 5.4.0 20160609]\n"
     ]
    }
   ],
   "source": [
    "from __future__ import absolute_import, division, print_function\n",
    "\n",
    "# General\n",
    "import sys \n",
    "import os\n",
    "from os import path, makedirs\n",
    "import shutil\n",
    "import numpy as np \n",
    "\n",
    "\n",
    "sys.path.insert(0, '../../Utils')\n",
    "sys.path.insert(1, os.path.join(sys.path[0], '..'))\n",
    "\n",
    "# For LibriSpeech download\n",
    "import codecs\n",
    "import fnmatch\n",
    "import pandas as pd\n",
    "import requests\n",
    "import subprocess\n",
    "import tarfile\n",
    "import unicodedata\n",
    "\n",
    "from tensorflow.python.platform import gfile\n",
    "\n",
    "# For PyBrain approach\n",
    "import soundfile as sf            # To read .flac files.   \n",
    "import speech_recognition as sr   # pip install SpeechRecognition.\n",
    "from pybrain.datasets                import ClassificationDataSet\n",
    "from pybrain.supervised.trainers     import BackpropTrainer\n",
    "from pybrain.tools.customxml.networkreader import NetworkReader\n",
    "from pybrain.tools.customxml.networkwriter import NetworkWriter\n",
    "\n",
    "#visualization imports:\n",
    "import matplotlib.pyplot as plt\n",
    "%matplotlib inline\n",
    "\n",
    "print(\"Python: %s\" % sys.version)"
   ]
  },
  {
   "cell_type": "markdown",
   "metadata": {},
   "source": [
    "## Data parameters"
   ]
  },
  {
   "cell_type": "code",
   "execution_count": 2,
   "metadata": {},
   "outputs": [],
   "source": [
    "# Frames and frequencies\n",
    "durationCheck = 10.      # Only consider files with 10 or more seconds of audio.\n",
    "deltaT        = 0.2      # Audio frame size is 0.2 seconds.\n",
    "noisy         = 0.1      # This sets the limit for static, i.e. pauses in speech.\n",
    "lim1 = 10; lim2 = 410    # Lower and upper frequencies. \n",
    "                         # For the above parameters and 16 kHz sampling, this range is about 50 - 2000 Hz. \n",
    "# Path names   \n",
    "audioType  = \".flac\"               # Flac files. \n",
    "datapath   = \"data/LibriSpeech/\"        # Path where audio files are located.\n",
    "trainSet   = \"train-speakerID/\"        # Training set.\n",
    "cvSet      = \"cv-speakerID/\"           # Cross-Validation set.\n",
    "tstSet     = \"test-speakerID/\"         # Test set. \n",
    "stem       = \"nn\"                  # Output network filename stem.    \n",
    "\n",
    "numSpeakers = 10 #make this an even #\n",
    "\n",
    "if numSpeakers == 10:\n",
    "    # These are the speakers.\n",
    "    # Female: 19, 32, 39, 40, 83\n",
    "    # Male: 26, 27, 78, 405, 196\n",
    "    speakers = [\"19/\",\n",
    "                \"26/\",\n",
    "                \"32/\",\n",
    "                \"27/\",\n",
    "                \"39/\",\n",
    "                \"78/\",\n",
    "                \"40/\",\n",
    "                \"405/\", \n",
    "                \"83/\",\n",
    "                \"196/\"]\n",
    "\n",
    "maxminFile = \"min_max_values\" + str(numSpeakers) + \".dat\"  # File to store max and min values for each frequency bin.\n",
    "outfolder  = \"networks\" + str(numSpeakers) + \"/\"           # Folder to store trained networks.\n",
    "\n",
    "if not os.path.isdir(outfolder):\n",
    "    os.mkdir(outfolder)\n",
    "\n",
    "numFeatures = lim2-lim1"
   ]
  },
  {
   "cell_type": "markdown",
   "metadata": {},
   "source": [
    "## Hyperparameters"
   ]
  },
  {
   "cell_type": "code",
   "execution_count": 3,
   "metadata": {},
   "outputs": [],
   "source": [
    "possibleOutputs   = 1       # Only 1 kind of output, i.e. each sample is one speaker.\n",
    "numHiddenNodes    = 10      # Nodes per hidden layer.\n",
    "numHiddenLayers   = 5       # 5 layers.\n",
    "numTrainingEpochs = 0      # Train 'n' epochs."
   ]
  },
  {
   "cell_type": "markdown",
   "metadata": {},
   "source": [
    "## Training settings"
   ]
  },
  {
   "cell_type": "code",
   "execution_count": 4,
   "metadata": {},
   "outputs": [],
   "source": [
    "first = True            # Set up a network.\n",
    "first = False            # We already have a network.\n",
    "nnFile = \"nn79.xml\"      # Most recent. Starting file name to read from.\n",
    "st = 80                  # Starting file to write to.\n",
    "\n",
    "#CV settings\n",
    "lastN = 79 #the last network there is an XML file for in the networks directory\n",
    "firstN = 60 #first network to start with"
   ]
  },
  {
   "cell_type": "markdown",
   "metadata": {},
   "source": [
    "## Load LibriSpeech data set"
   ]
  },
  {
   "cell_type": "code",
   "execution_count": 5,
   "metadata": {},
   "outputs": [
    {
     "name": "stdout",
     "output_type": "stream",
     "text": [
      "Downloading Librivox data set (55GB) into data/ if not already present...\n",
      "Found archive \"data/train-clean-100.tar.gz\" - not downloading.\n",
      "Found archive \"data/train-clean-360.tar.gz\" - not downloading.\n",
      "Found archive \"data/dev-clean.tar.gz\" - not downloading.\n",
      "Found archive \"data/dev-other.tar.gz\" - not downloading.\n",
      "Found archive \"data/test-clean.tar.gz\" - not downloading.\n",
      "Found archive \"data/test-other.tar.gz\" - not downloading.\n",
      "Extracting librivox data if not already extracted...\n"
     ]
    }
   ],
   "source": [
    "#all the code for data loading that isn't needed for visualization:\n",
    "from LS_UTILS import Data_load\n",
    "Data_load._download_and_preprocess_data('data/')"
   ]
  },
  {
   "cell_type": "markdown",
   "metadata": {},
   "source": [
    "## Load speaker metadata and select speakers"
   ]
  },
  {
   "cell_type": "code",
   "execution_count": 6,
   "metadata": {},
   "outputs": [
    {
     "data": {
      "image/png": "[encoded data removed]",
      "text/plain": [
       "<Figure size 432x288 with 1 Axes>"
      ]
     },
     "metadata": {},
     "output_type": "display_data"
    }
   ],
   "source": [
    "#1. load data from text to pandaframe\n",
    "\n",
    "# Note: before running this, change \n",
    "# 60   | M | train-clean-100  | 20.18 | |CBW| Simon\n",
    "# to\n",
    "# 60   | M | train-clean-100  | 20.18 | CBW Simon\n",
    "df = pd.read_table('data/LibriSpeech/SPEAKERS.TXT',header = 11,sep = '|')\n",
    "df.columns = ['id','sex','subset','minutes','name']\n",
    "train25 = df[df['subset']== ' train-clean-100  ']\n",
    "train25.plot.scatter('id','minutes')\n",
    "plt.title('Distribution of speaking times',size = 18);"
   ]
  },
  {
   "cell_type": "code",
   "execution_count": 7,
   "metadata": {},
   "outputs": [
    {
     "name": "stdout",
     "output_type": "stream",
     "text": [
      "# potential speakers: 187\n"
     ]
    }
   ],
   "source": [
    "# 2. Pick a gender balanced group of speakers w/long speaking times, and print their names\n",
    "\n",
    "train25 = train25[train25['minutes'] >= 25]\n",
    "print('# potential speakers:',len(train25))\n",
    "\n",
    "df_speaker = train25[train25['sex']==' M '][0:numSpeakers//2]\n",
    "df_speaker = df_speaker.append(train25[train25['sex']==' F '][0:numSpeakers//2]).sort_index()\n",
    "\n",
    "speakers = df_speaker['id'].values\n",
    "speakers = [str(i)+'/' for i in speakers]"
   ]
  },
  {
   "cell_type": "markdown",
   "metadata": {},
   "source": [
    "## Split data from individual speakers into train, test & cross-validation folders"
   ]
  },
  {
   "cell_type": "code",
   "execution_count": 8,
   "metadata": {},
   "outputs": [],
   "source": [
    "#all the code for data splitting that isn't needed for visualization:\n",
    "from LS_UTILS import Move_data\n",
    "Move_data.main(speakers,datapath,trainSet,cvSet,tstSet)"
   ]
  },
  {
   "cell_type": "markdown",
   "metadata": {},
   "source": [
    "## 1. PyBrain Neural Net approach\n",
    "\n",
    "  below ~15 cells adapted from https://github.com/aravindnatarajan/SpeakerRecognition\n",
    "\n",
    "  Speaker Identification. Data comes from http://www.openslr.org/12/\n",
    "  \n",
    "  Task: Given 't' seconds of speech, identify the speaker.\n",
    "  \n",
    "  10-class classification: 5 male and 5 female speakers.\n",
    "  \n",
    "  Training on about 10 minutes of speech per speaker."
   ]
  },
  {
   "cell_type": "code",
   "execution_count": 9,
   "metadata": {},
   "outputs": [],
   "source": [
    "#all the code for networks that isn't needed for visualization:\n",
    "from LS_UTILS import Network_funcs"
   ]
  },
  {
   "cell_type": "code",
   "execution_count": null,
   "metadata": {},
   "outputs": [
    {
     "name": "stdout",
     "output_type": "stream",
     "text": [
      "Getting data for speaker: 19/\n",
      "Getting data for speaker: 26/\n",
      "Getting data for speaker: 39/\n",
      "Getting data for speaker: 40/\n"
     ]
    }
   ],
   "source": [
    "# Get data,\n",
    "# as well as locations where speaker 'i' ends, and speaker 'j' begins.\n",
    "trnX,trnY,trnIdx = Network_funcs.getDataSpeakers(trainSet,speakers,datapath,audioType,durationCheck,deltaT,lim1,\n",
    "                                                 lim2,numFeatures,noisy)  "
   ]
  },
  {
   "cell_type": "code",
   "execution_count": null,
   "metadata": {},
   "outputs": [],
   "source": [
    "print('Xdim,ydim',np.shape(trnX), np.shape(trnY)    )\n",
    "trnRows = np.shape(trnX)[0]"
   ]
  },
  {
   "cell_type": "code",
   "execution_count": null,
   "metadata": {},
   "outputs": [],
   "source": [
    "# Make some plots.\n",
    "# Frequency index from 0...400 represent a range from 50 - 2000 Hz.\n",
    "# Time index from 0 to 150 represent a range from 0 - 30 seconds.\n",
    "plt.title(\"Speaker #1 (ID# 19/, Female), 30 seconds\")\n",
    "plt.xlabel(\"Time Index\")\n",
    "plt.ylabel(\"Frequency Index\")\n",
    "plt.imshow(trnX[trnIdx[0]:trnIdx[0]+150,:].T,origin=\"lower\",aspect=0.3)"
   ]
  },
  {
   "cell_type": "code",
   "execution_count": null,
   "metadata": {},
   "outputs": [],
   "source": [
    "plt.title(\"Speaker #2 (ID# 26/, Male), 30 seconds\")\n",
    "plt.xlabel(\"Time Index\")\n",
    "plt.ylabel(\"Frequency Index\")\n",
    "plt.imshow(trnX[trnIdx[1]:trnIdx[1]+150,:].T,origin=\"lower\",aspect=0.3)"
   ]
  },
  {
   "cell_type": "code",
   "execution_count": null,
   "metadata": {},
   "outputs": [],
   "source": [
    "# Find min and max values for each frequency bin using Training data only.\n",
    "# Normalize data to lie in the range (0,1).\n",
    "minArray = []; maxArray = []\n",
    "for i in range(0,numFeatures):\n",
    "  minArray.append(np.min(trnX[:,i]))\n",
    "  maxArray.append(np.max(trnX[:,i]))    \n",
    "\n",
    "f = open(maxminFile, \"w\")\n",
    "for i in range(0,numFeatures):\n",
    "  f.write(str(maxArray[i]) + \" \" + str(minArray[i]) + \"\\n\")\n",
    "f.close()      \n",
    "\n",
    "for i in range(0,trnRows):\n",
    "  for j in range(0,numFeatures):\n",
    "    trnX[i,j] = (trnX[i,j]-minArray[j])/(maxArray[j]-minArray[j])  "
   ]
  },
  {
   "cell_type": "markdown",
   "metadata": {},
   "source": [
    "## Network training"
   ]
  },
  {
   "cell_type": "code",
   "execution_count": null,
   "metadata": {
    "scrolled": false
   },
   "outputs": [],
   "source": [
    "# Now, we train the neural network.\n",
    "trndata = ClassificationDataSet(numFeatures, possibleOutputs, nb_classes=numSpeakers)\n",
    "for row in range(0,trnRows):\n",
    "  tempListOut = []; tempListIn = []\n",
    "  tempListOut.append(int(trnY[row]))\n",
    "  for i in range(0,numFeatures): \n",
    "    tempListIn.append(trnX[row,i])\n",
    "    \n",
    "  trndata.addSample(tempListIn,tempListOut)\n",
    "trndata._convertToOneOfMany()\n",
    "\n",
    "if first:    # For the first time, we need to create the neural network.\n",
    "  nn = Network_funcs.setupNetwork(numHiddenNodes,numHiddenLayers,numFeatures,numSpeakers)\n",
    "\n",
    "else:        # We already have a network.\n",
    "  nn = NetworkReader.readFrom(outfolder+nnFile)\n",
    "    \n",
    "trainer = BackpropTrainer(nn, dataset=trndata, momentum=0., verbose=True, weightdecay=0.)  \n",
    "for i in range(numTrainingEpochs): \n",
    "  trainer.trainOnDataset(dataset=trndata)    \n",
    "  if (i+1)%5 == 0:\n",
    "    NetworkWriter.writeToFile(nn, outfolder+stem+str(st)+\".xml\")  # Save the network, to save time.\n",
    "    st += 1\n",
    "    print (i+1)"
   ]
  },
  {
   "cell_type": "code",
   "execution_count": null,
   "metadata": {},
   "outputs": [],
   "source": [
    "# Data for cross-validation and testing.\n",
    "# We use the cross validation data set to determine the network architecture,\n",
    "# i.e. depth and width of the network, type of activation function, etc.\n",
    "#\n",
    "cvX,cvY,cvIdx = Network_funcs.getDataSpeakers(cvSet,speakers,datapath,audioType,durationCheck,deltaT,lim1,\n",
    "                                                 lim2,numFeatures,noisy)  \n",
    "tstX,tstY,tstIdx = Network_funcs.getDataSpeakers(tstSet,speakers,datapath,audioType,durationCheck,deltaT,lim1,\n",
    "                                                 lim2,numFeatures,noisy)  \n",
    "cvRows = np.shape(cvX)[0]; tstRows = np.shape(tstX)[0]\n",
    "\n",
    "f = open(maxminFile)    # Read the max and min values obtained from the training set.\n",
    "maxi = []; mini = []\n",
    "for lp in range(0,numFeatures):\n",
    "  line = f.readline().split()\n",
    "  maxi.append(float(line[0]))\n",
    "  mini.append(float(line[1]))\n",
    "f.close()\n",
    "\n",
    "# Normalize to put data in the range (0,1).\n",
    "for i in range(0,cvRows):\n",
    "  for j in range(0,numFeatures):\n",
    "    cvX[i,j] = (cvX[i,j]-mini[j])/(maxi[j]-mini[j])  \n",
    "\n",
    "for i in range(0,tstRows):\n",
    "  for j in range(0,numFeatures):\n",
    "    tstX[i,j] = (tstX[i,j]-mini[j])/(maxi[j]-mini[j])  "
   ]
  },
  {
   "cell_type": "code",
   "execution_count": null,
   "metadata": {
    "scrolled": false
   },
   "outputs": [],
   "source": [
    "# Performance on the CV set, as a function of training epoch.\n",
    "# We stop when we see signs of overfitting.\n",
    "# Performance on the CV set is also used to determine the neural network architecture.\n",
    "#\n",
    "\n",
    "print(\"CV Set - Performance on 0.2 seconds of data.\")\n",
    "X = []; Y = []\n",
    "for q in range(firstN,lastN+1):\n",
    "  net = outfolder+stem+str(q)+\".xml\"\n",
    "  nn = [NetworkReader.readFrom(net)]\n",
    "  st = 1\n",
    "  A,c = Network_funcs.tstClassifier(nn,cvX,cvY,cvIdx,st,numSpeakers,numFeatures)\n",
    "#   if q%5 == 0:\n",
    "  print(net,st*deltaT,np.mean(A))\n",
    "  X.append((q+1)*5)\n",
    "  Y.append(np.mean(A))"
   ]
  },
  {
   "cell_type": "markdown",
   "metadata": {},
   "source": [
    "## Get training accuracy (after CV)"
   ]
  },
  {
   "cell_type": "code",
   "execution_count": null,
   "metadata": {},
   "outputs": [],
   "source": [
    "print(\"Train Set - Performance on 0.2 seconds of data.\")\n",
    "X = []; Y = []\n",
    "for q in range(firstN,lastN+1):\n",
    "  net = outfolder+stem+str(q)+\".xml\"\n",
    "  nn = [NetworkReader.readFrom(net)]\n",
    "  st = 1\n",
    "  A,c = Network_funcs.tstClassifier(nn,trnX,trnY,trnIdx,st,numSpeakers,numFeatures)\n",
    "#   if q%5 == 0:\n",
    "  print(net,st*deltaT,np.mean(A))\n",
    "  X.append((q+1)*5)\n",
    "  Y.append(np.mean(A))"
   ]
  },
  {
   "cell_type": "code",
   "execution_count": null,
   "metadata": {},
   "outputs": [],
   "source": [
    "#  The network is trained using performance on the CV set.\n",
    "#  Therefore, we cannot report perfomance on the CV set anymore.\n",
    "#  So, we use the other hold-out data set, i.e. the Test set.\n",
    "#\n",
    "print(\"Test Set - Performance on 0.2 seconds of data.\")\n",
    "X = []; Y = []\n",
    "for q in range(firstN),lastN):\n",
    "  net = outfolder+stem+str(q)+\".xml\"\n",
    "  nn = [NetworkReader.readFrom(net)]\n",
    "  st = 1\n",
    "  A,c = tstClassifier(nn,tstX,tstY,tstIdx,st)\n",
    "#   if q%5 == 0:\n",
    "  print(net,st*deltaT,np.mean(A))\n",
    "  X.append((q+1)*5)\n",
    "  Y.append(np.mean(A))"
   ]
  },
  {
   "cell_type": "code",
   "execution_count": null,
   "metadata": {},
   "outputs": [],
   "source": [
    "plt.xlabel(\"Training epoch index\")\n",
    "plt.ylabel(\"Accuracy averaged over 10 speakers\")\n",
    "plt.title(\"Performance on the test set with 0.2 seconds of speech\")\n",
    "plt.plot(X,Y)\n",
    "plt.show()"
   ]
  },
  {
   "cell_type": "code",
   "execution_count": null,
   "metadata": {},
   "outputs": [],
   "source": [
    "#  Accuracy for t = 0.2,0.4,0.6,0.8,1.0,... 3 seconds.\n",
    "#\n",
    "print(\"Test Set: Accuracy (averaged over speakers) for t = 0.2,0.4,0.6,... seconds\")\n",
    "# Use 5 classifiers - the accuracy improves a little with an ensemble of networks.\n",
    "# For better results, use networks that were initialized with different random seeds.\n",
    "nets = [\"nn19.xml\", \"nn39.xml\", \"nn47.xml\", \"nn23.xml\", \"nn18.xml\"]\n",
    "nets = [\"nn5.xml\", \"nn10.xml\", \"nn15.xml\", \"nn20.xml\", \"nn29.xml\"]\n",
    "nets = [\"nn5.xml\", \"nn9.xml\", \"nn14.xml\", \"nn19.xml\",\"nn24.xml\"]\n",
    "nns = [NetworkReader.readFrom(outfolder+net) for net in nets]\n",
    "X = []; Y = []\n",
    "maxT = 3.   # 3 seconds.\n",
    "for st in range(1,int(maxT/deltaT)+1):\n",
    "  A,c = tstClassifier(nns,tstX,tstY,tstIdx,st)\n",
    "  print(st*deltaT,np.mean(A))\n",
    "  X.append(st*deltaT)\n",
    "  Y.append(np.mean(A))"
   ]
  },
  {
   "cell_type": "code",
   "execution_count": null,
   "metadata": {},
   "outputs": [],
   "source": [
    "plt.plot(X,Y)\n",
    "plt.xlabel(\"Number of seconds of speech\")\n",
    "plt.ylabel(\"Accuracy averaged over 10 speakers\")\n",
    "plt.title(\"Classifier performance on the test set\")\n",
    "plt.show()"
   ]
  },
  {
   "cell_type": "markdown",
   "metadata": {},
   "source": [
    "### classifier notes:\n",
    "10: each 20 files were started from a new seed\n",
    "100: 0-4 is one set; 5-24 another; 25-34; 35-44; 45-54"
   ]
  },
  {
   "cell_type": "markdown",
   "metadata": {},
   "source": [
    "## LibriSpeech Results"
   ]
  },
  {
   "cell_type": "code",
   "execution_count": null,
   "metadata": {},
   "outputs": [],
   "source": [
    "#table with \n",
    "columns = ['Training epochs', '# speakers', 'audio duration', 'Train accuracy', 'Test accuracy']\n",
    "\n",
    "# do this for 10 & 100 speakers\n",
    "# .2 S & 3 S\n",
    "#sufficient training and over-training\n",
    "\n"
   ]
  },
  {
   "cell_type": "code",
   "execution_count": null,
   "metadata": {
    "scrolled": false
   },
   "outputs": [],
   "source": [
    "# Print the confusion matrix of True/False positives.\n",
    "# First row is speaker 1. The columns are predictions for speaker 1,2,3,...\n",
    "#\n",
    "nns  = [NetworkReader.readFrom(outfolder+net) for net in nets]\n",
    "A,c = tstClassifier(nns,tstX,tstY,tstIdx,1)\n",
    "print(\"Confusion matrix: T = 0.2 s\")\n",
    "print(\"Predicted speaker -->\")\n",
    "print(\"F\\tM\\tF\\tM\\tF\\tM\\tF\\tM\\tF\\tM\\n\")\n",
    "\n",
    "A,c = tstClassifier(nns,tstX,tstY,tstIdx,5)\n",
    "print(c)\n",
    "\n",
    "A,c = tstClassifier(nns,tstX,tstY,tstIdx,10)\n",
    "print(\"F\\tM\\tF\\tM\\tF\\tM\\tF\\tM\\tF\\tM\\n\")\n",
    "print(c)"
   ]
  },
  {
   "cell_type": "code",
   "execution_count": null,
   "metadata": {},
   "outputs": [],
   "source": [
    "samples = [datapath+tstSet+\"19/227/19-227-0016.flac\",\n",
    "           datapath+tstSet+\"26/496/26-496-0021.flac\",\n",
    "           datapath+tstSet+\"405/130895/405-130895-0031.flac\"]\n",
    "\n",
    "expected = [\n",
    "\"\",\n",
    "  \n",
    "\"\",\n",
    "  \n",
    "\"\"\n",
    "]\n",
    "\n",
    "r = sr.Recognizer()\n",
    "i = 0\n",
    "for sample in samples:\n",
    "  with sr.AudioFile(sample) as source:\n",
    "    audio = r.record(source)      \n",
    "    s = r.recognize_google(audio)\n",
    "    print(\"Reading file: \" + sample)\n",
    "    print(\"Expected:\")\n",
    "    print(expected[i])\n",
    "    print(\"\\n\"[:-1])\n",
    "    print(\"Obtained (Google translator):\")\n",
    "    print(s)\n",
    "    print(\"\\n\"[:-1])\n",
    "    i += 1"
   ]
  },
  {
   "cell_type": "markdown",
   "metadata": {},
   "source": [
    "## 2. Approach: Siamese network"
   ]
  },
  {
   "cell_type": "code",
   "execution_count": null,
   "metadata": {},
   "outputs": [],
   "source": []
  },
  {
   "cell_type": "code",
   "execution_count": null,
   "metadata": {},
   "outputs": [],
   "source": [
    "# add this to ~/.bashrc for the package to run:\n",
    "#export PYTHONPATH=$PYTHONPATH:/home/nlopatina/nlopatina/voicemap\n",
    "# adapted from https://github.com/oscarknagg/voicemap\n",
    "\n",
    "\n",
    "\n",
    "\n",
    "\n",
    "\n",
    "# from keras.layers import Input, Subtract, Dense, Lambda\n",
    "# from keras.models import Model\n",
    "# import keras.backend as K\n",
    "\n",
    "# def build_siamese_network(encoder, input_shape):\n",
    "#     input_1 = Input(input_shape)\n",
    "#     input_2 = Input(input_shape)\n",
    "    \n",
    "#     # `encoder` is any predefined network that maps a single sample \n",
    "#     # into an embedding space.\n",
    "#     # `encoder` should take an input with shape (None,) + input_shape\n",
    "#     # and produce an output with shape (None, embedding_dim). \n",
    "#     # None indicates the batch dimension.\n",
    "#     encoded_1 = encoder(input_1)\n",
    "#     encoded_2 = encoder(input_2)\n",
    "    \n",
    "#     # Here I calculate the eucliden distance between the two encoded\n",
    "#     # samples though other distances can be used\n",
    "#     embedded_distance = Subtract()([encoded_1, encoded_2])\n",
    "#     embedded_distance = Lambda(\n",
    "#         lambda x: K.sqrt(K.mean(K.square(x), axis=-1,keepdims=True))\n",
    "#     )(embedded_distance)\n",
    "    \n",
    "#     # Add a dense+sigmoid layer here in order to use per-pair, binary \n",
    "#     # similar/dissimilar labels\n",
    "#     output = Dense(1, activation='sigmoid')(embedded_distance)\n",
    "    \n",
    "#     siamese = Model(inputs=[input_1, input_2], outputs=output)\n",
    "    \n",
    "#     return siamese\n",
    "\n",
    "# # adapted from https://medium.com/analytics-vidhya/building-a-speaker-identification-system-from-scratch-with-deep-learning-f4c4aa558a56"
   ]
  }
 ],
 "metadata": {
  "kernelspec": {
   "display_name": "Python 3",
   "language": "python",
   "name": "python3"
  },
  "language_info": {
   "codemirror_mode": {
    "name": "ipython",
    "version": 3
   },
   "file_extension": ".py",
   "mimetype": "text/x-python",
   "name": "python",
   "nbconvert_exporter": "python",
   "pygments_lexer": "ipython3",
   "version": "3.6.5"
  }
 },
 "nbformat": 4,
 "nbformat_minor": 1
}
